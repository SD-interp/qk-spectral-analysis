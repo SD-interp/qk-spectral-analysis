{
 "cells": [
  {
   "cell_type": "markdown",
   "id": "72abffda",
   "metadata": {},
   "source": [
    "# Convert .png files in path to a gif"
   ]
  },
  {
   "cell_type": "code",
   "execution_count": null,
   "id": "f0647164",
   "metadata": {},
   "outputs": [],
   "source": [
    "from PIL import Image\n",
    "from pathlib import Path\n",
    "\n",
    "path = Path(r\"\")\n",
    "# List of image file paths\n",
    "image_paths = list(path.glob(\"*.png\"))\n",
    "\n",
    "# Open images and store them in a list\n",
    "images = [Image.open(path) for path in image_paths]\n",
    "\n",
    "# Save the images as an animated GIF\n",
    "output_path = 'Qwen3_ESD.gif'\n",
    "images[0].save(\n",
    "    output_path,\n",
    "    save_all=True,\n",
    "    append_images=images[1:],\n",
    "    duration=2500,\n",
    "    loop=0\n",
    ")\n",
    "\n",
    "print(f\"GIF saved to {output_path}\")"
   ]
  }
 ],
 "metadata": {
  "kernelspec": {
   "display_name": "Python 3",
   "language": "python",
   "name": "python3"
  },
  "language_info": {
   "codemirror_mode": {
    "name": "ipython",
    "version": 3
   },
   "file_extension": ".py",
   "mimetype": "text/x-python",
   "name": "python",
   "nbconvert_exporter": "python",
   "pygments_lexer": "ipython3",
   "version": "3.12.10"
  }
 },
 "nbformat": 4,
 "nbformat_minor": 5
}
