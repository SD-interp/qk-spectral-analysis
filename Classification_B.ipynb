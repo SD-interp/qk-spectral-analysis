{
 "cells": [
  {
   "cell_type": "code",
   "execution_count": null,
   "id": "585d457d",
   "metadata": {},
   "outputs": [],
   "source": [
    "# import sys\n",
    "# import os\n",
    "# if \"google.colab\" in sys.modules\n",
    "#     os.chdir(\"/content/qk-spectral-analysis\")\n",
    "# else:\n",
    "#     os.chdir(\"qk-spectral-analysis\")"
   ]
  },
  {
   "cell_type": "markdown",
   "id": "23c87001",
   "metadata": {},
   "source": [
    "# Classification B plots\n",
    "\n",
    "Generates boxplot of various statistics with layer number on the x-axis.\n",
    "Results are stored in `{model_family}/plots/{statistic}`"
   ]
  },
  {
   "cell_type": "code",
   "execution_count": null,
   "id": "6a9714b3",
   "metadata": {},
   "outputs": [],
   "source": [
    "import numpy as np\n",
    "import matplotlib.pyplot as plt\n",
    "from statsmodels.tsa.stattools import bds\n",
    "import pickle\n",
    "import seaborn as sns\n",
    "from collections import defaultdict\n",
    "from enum import IntEnum\n",
    "from scipy.interpolate import make_splrep\n",
    "from pathlib import Path\n",
    "\n",
    "sns.set_theme(\"talk\")\n",
    "sns.set_style(\"white\")"
   ]
  },
  {
   "cell_type": "code",
   "execution_count": 2,
   "id": "3105202a",
   "metadata": {},
   "outputs": [],
   "source": [
    "class stats(IntEnum):\n",
    "    MIN = 0\n",
    "    MAX = 1\n",
    "    MEAN = 2\n",
    "    STD = 3\n",
    "    SKEW = 4\n",
    "    KURTOSIS = 5"
   ]
  },
  {
   "cell_type": "code",
   "execution_count": null,
   "id": "a3f84f6f",
   "metadata": {},
   "outputs": [],
   "source": [
    "# Some plots are distorted by layers 0 and 1 so the layers are skipped\n",
    "start = defaultdict(lambda:2)\n",
    "\n",
    "start['Llama-3.1-70B-Instruct'] = 5\n",
    "start['Llama-3.3-70B-Instruct'] = 5"
   ]
  },
  {
   "cell_type": "code",
   "execution_count": null,
   "id": "95c49243",
   "metadata": {},
   "outputs": [],
   "source": [
    "base = Path(\".\")\n",
    "skip = []\n",
    "\n",
    "for value in stats._member_names_:\n",
    "    \n",
    "    if value in skip:\n",
    "            continue\n",
    "        \n",
    "    for f in base.glob(\"*/data/*.pkl\"):\n",
    "        \n",
    "        # Larger width for Llama 3.1 405B \n",
    "        width = 20 if \"405\" not in str(f) else 35\n",
    "        \n",
    "        plt.figure(figsize=(width,8), dpi=100)\n",
    "        family_name = f.parent.parent.name\n",
    "        model_name = f.name.rsplit(\".\", maxsplit=1)[0]\n",
    "        \n",
    "        save_path = (base / family_name/ \"plots\"/ value)\n",
    "        save_path.mkdir(exist_ok=True, parents=True)\n",
    "        \n",
    "        with open(f, \"rb\") as file:\n",
    "            if value.upper() in stats._member_names_:\n",
    "                data = dict(pickle.load(file))['eigen_values_stats']\n",
    "                data = {k:v[stats[value.upper()]].squeeze() for k,v in data.items()}\n",
    "            else:\n",
    "                data = dict(pickle.load(file))[value]\n",
    "                \n",
    "        data = {k:v for k,v in data.items() if k >= start[model_name]}\n",
    "        data = dict(sorted(data.items()))\n",
    "        n_layers = len(data)\n",
    "        \n",
    "        # Compute the BDS statistic and p-value\n",
    "        bds_stat, p_value = bds([np.median(x) for x in data.values()])\n",
    "        \n",
    "        plt.boxplot(list(data.values()), positions=np.arange(n_layers),\n",
    "                    widths=0.5, showmeans=True, showfliers=False)\n",
    "        \n",
    "        if \"405\" not in str(f):\n",
    "            plt.xticks(np.arange(n_layers), list(data.keys()))\n",
    "        else:\n",
    "            plt.xticks([])\n",
    "        plt.title(f\"{model_name}_{value} (BDS: {bds_stat:.2f} p-value: {p_value:.2e})\")\n",
    "        \n",
    "        # Fit a spline of degree 1\n",
    "        means = [x.mean() for x in data.values()]\n",
    "        f_linear = make_splrep(np.arange(n_layers), means, s=20, k=1) # type: ignore\n",
    "        x_new = np.linspace(0, n_layers-1, 500)\n",
    "        y_new = f_linear(x_new)\n",
    "        \n",
    "        plt.plot(x_new, y_new, linestyle=\"--\")\n",
    "        \n",
    "        plt.tight_layout()\n",
    "        plt.savefig(save_path / f\"{model_name}_{value}_box.png\")\n",
    "        # plt.show()\n",
    "        plt.close()"
   ]
  }
 ],
 "metadata": {
  "kernelspec": {
   "display_name": "Python 3",
   "language": "python",
   "name": "python3"
  },
  "language_info": {
   "codemirror_mode": {
    "name": "ipython",
    "version": 3
   },
   "file_extension": ".py",
   "mimetype": "text/x-python",
   "name": "python",
   "nbconvert_exporter": "python",
   "pygments_lexer": "ipython3",
   "version": "3.12.10"
  }
 },
 "nbformat": 4,
 "nbformat_minor": 5
}
